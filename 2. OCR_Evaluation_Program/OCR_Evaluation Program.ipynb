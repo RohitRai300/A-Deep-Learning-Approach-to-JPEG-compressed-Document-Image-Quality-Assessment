{
 "cells": [
  {
   "cell_type": "markdown",
   "metadata": {},
   "source": [
    "### Program to estimate Quality Score a Document Image\n",
    "#### Input : Direct Binary Image\n",
    "#### Output: Quality Score after comparing it with OCR Text\n",
    "##### Process Type: Manual "
   ]
  },
  {
   "cell_type": "code",
   "execution_count": 7,
   "metadata": {},
   "outputs": [],
   "source": [
    "import pytesseract as pytesseract\n",
    "import matplotlib.pyplot as plt\n",
    "import cv2\n",
    "import glob\n",
    "import PIL"
   ]
  },
  {
   "cell_type": "code",
   "execution_count": 8,
   "metadata": {},
   "outputs": [],
   "source": [
    "\n",
    "# 100% processed original image\n",
    "file0 = r'images\\1_1.jpg' # 1.0\n",
    "\n",
    "# grayscale img\n",
    "file1 = r'images\\1_2.jpg' # 0.972672\n",
    "\n",
    "# binary image\n",
    "file2 = r'images\\1_3.jpg'  # 0.914522\n",
    "file3 = r'images\\1_4.jpg'   # 0.875772\n",
    "\n",
    "image = PIL.Image.open(file2)\n",
    "text = pytesseract.image_to_string(image)\n",
    "\n",
    "\n"
   ]
  },
  {
   "cell_type": "code",
   "execution_count": 9,
   "metadata": {},
   "outputs": [
    {
     "name": "stdout",
     "output_type": "stream",
     "text": [
      "5.2. AUTHENTICATION USING CPS CODES\n",
      "\n",
      " \n",
      "\n",
      " \n",
      "\n",
      "(a) Sheet 0 (b) Sheet 1 (c) Sheet 2 (d) Sheet 3\n",
      "\n",
      "(e) Sheet 4 (f) Sheet 5 (g) Sheet 6 (bh) Sheet 7\n",
      "\n",
      " \n",
      "\n",
      " \n",
      "\n",
      "Figure 5.8: Test sheets from the Electronic Frontier Foundation.\n",
      "\n",
      "serial number of the printer / copier used to generate the print-outs\n",
      "\n",
      "® presence or absence of dots\n",
      "\n",
      "manually measured horizontal pattern separation distance\n",
      "\n",
      "manually measured vertical pattern separation distance\n",
      "\n",
      "vertical pattern separation distance according to the classification given in\n",
      "the paper by Tweedy [110], if available\n",
      "\n",
      "miscellaneous information\n",
      "\n",
      "Evaluation of CPS Code Classification\n",
      "\n",
      "For the evaluation of the classification based on the HPS and VPS distances, the\n",
      "different classes have to be defined: Tweedy [110] proposed thirteen different classes\n",
      "of VPS distances. For the 0.32 and 0.64 inch distances, ‘weedy distinguished two\n",
      "different subclasses based on different visual characteristics. As these subclasses\n",
      "have the same VPS distance, these are merged into the same class for the current\n",
      "\n",
      "98\n",
      "\f",
      "\n"
     ]
    }
   ],
   "source": [
    "print(text)"
   ]
  },
  {
   "cell_type": "code",
   "execution_count": 10,
   "metadata": {},
   "outputs": [],
   "source": [
    "file = open(\"1ocrtext.txt\", \"w\") \n",
    "file.write(text) \n",
    "file.close()"
   ]
  },
  {
   "cell_type": "code",
   "execution_count": 11,
   "metadata": {},
   "outputs": [
    {
     "name": "stdout",
     "output_type": "stream",
     "text": [
      "Number of words:\n",
      "157\n"
     ]
    }
   ],
   "source": [
    "fname = \"1ocrtext.txt\"\n",
    " \n",
    "num_words = 0\n",
    " \n",
    "with open(fname, 'r') as f:\n",
    "    for line in f:\n",
    "        words = line.split()\n",
    "        num_words += len(words)\n",
    "print(\"Number of words:\")\n",
    "print(num_words)\n"
   ]
  },
  {
   "cell_type": "code",
   "execution_count": 17,
   "metadata": {},
   "outputs": [
    {
     "data": {
      "text/plain": [
       "0.8351063829787234"
      ]
     },
     "execution_count": 17,
     "metadata": {},
     "output_type": "execute_result"
    }
   ],
   "source": [
    "correct_no_of_words = 188\n",
    "quality_score = (num_words/correct_no_of_words)\n",
    "quality_score"
   ]
  }
 ],
 "metadata": {
  "kernelspec": {
   "display_name": "Python 3",
   "language": "python",
   "name": "python3"
  },
  "language_info": {
   "codemirror_mode": {
    "name": "ipython",
    "version": 3
   },
   "file_extension": ".py",
   "mimetype": "text/x-python",
   "name": "python",
   "nbconvert_exporter": "python",
   "pygments_lexer": "ipython3",
   "version": "3.8.5"
  }
 },
 "nbformat": 4,
 "nbformat_minor": 4
}
